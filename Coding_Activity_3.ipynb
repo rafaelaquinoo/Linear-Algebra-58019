{
  "nbformat": 4,
  "nbformat_minor": 0,
  "metadata": {
    "colab": {
      "name": "Coding Activity 3.ipynb",
      "provenance": [],
      "authorship_tag": "ABX9TyN82v9/lx782M4q7d1g/zsG",
      "include_colab_link": true
    },
    "kernelspec": {
      "name": "python3",
      "display_name": "Python 3"
    },
    "language_info": {
      "name": "python"
    }
  },
  "cells": [
    {
      "cell_type": "markdown",
      "metadata": {
        "id": "view-in-github",
        "colab_type": "text"
      },
      "source": [
        "<a href=\"https://colab.research.google.com/github/rafaelaquinoo/Linear-Algebra-58019/blob/main/Coding_Activity_3.ipynb\" target=\"_parent\"><img src=\"https://colab.research.google.com/assets/colab-badge.svg\" alt=\"Open In Colab\"/></a>"
      ]
    },
    {
      "cell_type": "code",
      "metadata": {
        "colab": {
          "base_uri": "https://localhost:8080/"
        },
        "id": "JTwqDaotVWG1",
        "outputId": "14f0879b-56f2-4c8b-d839-b321ead64f72"
      },
      "source": [
        "import numpy as np\n",
        "A = np.array([[[4,10,8],[10,26,26],[8,26,61]]])\n",
        "print(A)\n",
        "inv_A = np.linalg.inv(A)\n",
        "print(inv_A)"
      ],
      "execution_count": 1,
      "outputs": [
        {
          "output_type": "stream",
          "name": "stdout",
          "text": [
            "[[[ 4 10  8]\n",
            "  [10 26 26]\n",
            "  [ 8 26 61]]]\n",
            "[[[ 25.27777778 -11.16666667   1.44444444]\n",
            "  [-11.16666667   5.          -0.66666667]\n",
            "  [  1.44444444  -0.66666667   0.11111111]]]\n"
          ]
        }
      ]
    },
    {
      "cell_type": "code",
      "metadata": {
        "colab": {
          "base_uri": "https://localhost:8080/"
        },
        "id": "eblhBoZOWBRe",
        "outputId": "25a22b24-cacf-480d-9e2e-10277ce5bd0c"
      },
      "source": [
        "B = np.array([[[44],[128],[214]]])\n",
        "print(B)"
      ],
      "execution_count": 2,
      "outputs": [
        {
          "output_type": "stream",
          "name": "stdout",
          "text": [
            "[[[ 44]\n",
            "  [128]\n",
            "  [214]]]\n"
          ]
        }
      ]
    },
    {
      "cell_type": "code",
      "metadata": {
        "colab": {
          "base_uri": "https://localhost:8080/"
        },
        "id": "87tBlwKFWMYF",
        "outputId": "2691f9da-9b48-4266-8146-382f5150df09"
      },
      "source": [
        "X = np.linalg.inv(A).dot(B)\n",
        "print(X)"
      ],
      "execution_count": 3,
      "outputs": [
        {
          "output_type": "stream",
          "name": "stdout",
          "text": [
            "[[[[-8.]]\n",
            "\n",
            "  [[ 6.]]\n",
            "\n",
            "  [[ 2.]]]]\n"
          ]
        }
      ]
    },
    {
      "cell_type": "code",
      "metadata": {
        "colab": {
          "base_uri": "https://localhost:8080/"
        },
        "id": "vUmfvWxKWTg_",
        "outputId": "ebfb72c6-5aad-4fd4-d217-87c3d11792cc"
      },
      "source": [
        "X =np.dot(inv_A,B)\n",
        "print(X)"
      ],
      "execution_count": 5,
      "outputs": [
        {
          "output_type": "stream",
          "name": "stdout",
          "text": [
            "[[[[-8.]]\n",
            "\n",
            "  [[ 6.]]\n",
            "\n",
            "  [[ 2.]]]]\n"
          ]
        }
      ]
    }
  ]
}