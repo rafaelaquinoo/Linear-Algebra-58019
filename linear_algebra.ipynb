{
  "nbformat": 4,
  "nbformat_minor": 0,
  "metadata": {
    "colab": {
      "name": "linear-algebra.ipynb",
      "provenance": [],
      "authorship_tag": "ABX9TyP0ywtGshZt58o36iQ9R8An",
      "include_colab_link": true
    },
    "kernelspec": {
      "name": "python3",
      "display_name": "Python 3"
    },
    "language_info": {
      "name": "python"
    }
  },
  "cells": [
    {
      "cell_type": "markdown",
      "metadata": {
        "id": "view-in-github",
        "colab_type": "text"
      },
      "source": [
        "<a href=\"https://colab.research.google.com/github/rafaelaquinoo/Linear-Algebra-58019/blob/main/linear_algebra.ipynb\" target=\"_parent\"><img src=\"https://colab.research.google.com/assets/colab-badge.svg\" alt=\"Open In Colab\"/></a>"
      ]
    },
    {
      "cell_type": "markdown",
      "metadata": {
        "id": "5EyrBg6N51t7"
      },
      "source": [
        "Linear Algebra Programming Demo 1"
      ]
    },
    {
      "cell_type": "code",
      "metadata": {
        "id": "1I45s8f57WYj",
        "colab": {
          "base_uri": "https://localhost:8080/"
        },
        "outputId": "9766c7e9-4d42-4f4f-e473-4c1818509388"
      },
      "source": [
        "x = 1 \n",
        "\n",
        "print (x)"
      ],
      "execution_count": null,
      "outputs": [
        {
          "output_type": "stream",
          "text": [
            "1\n"
          ],
          "name": "stdout"
        }
      ]
    },
    {
      "cell_type": "code",
      "metadata": {
        "id": "sCj0B19t7War",
        "colab": {
          "base_uri": "https://localhost:8080/"
        },
        "outputId": "af07b163-42f5-4d2e-cbd2-c8daedeed18f"
      },
      "source": [
        "x = 1\n",
        "b = \"Sally\"\n",
        "\n",
        "print (b)"
      ],
      "execution_count": null,
      "outputs": [
        {
          "output_type": "stream",
          "text": [
            "Sally\n"
          ],
          "name": "stdout"
        }
      ]
    },
    {
      "cell_type": "code",
      "metadata": {
        "id": "NL0ZmY-V7WdL",
        "colab": {
          "base_uri": "https://localhost:8080/"
        },
        "outputId": "cf32f176-a298-4a98-da5f-8a230529dd56"
      },
      "source": [
        "x = 1 \n",
        "b = \"Sally\"\n",
        "\n",
        "print(x)\n",
        "print(b)"
      ],
      "execution_count": null,
      "outputs": [
        {
          "output_type": "stream",
          "text": [
            "1\n",
            "Sally\n"
          ],
          "name": "stdout"
        }
      ]
    },
    {
      "cell_type": "code",
      "metadata": {
        "id": "Jw42oHEK7WfS",
        "colab": {
          "base_uri": "https://localhost:8080/"
        },
        "outputId": "a4eb63e2-1438-4cff-d0f5-bc59f0336cae"
      },
      "source": [
        "x = int(1.75)\n",
        "b = \"Sally\"\n",
        "\n",
        "print(x)"
      ],
      "execution_count": null,
      "outputs": [
        {
          "output_type": "stream",
          "text": [
            "1\n"
          ],
          "name": "stdout"
        }
      ]
    },
    {
      "cell_type": "code",
      "metadata": {
        "id": "zKW6gtdN7Whr",
        "colab": {
          "base_uri": "https://localhost:8080/"
        },
        "outputId": "784bac6b-46e7-4313-e5a5-700b54974302"
      },
      "source": [
        "x = float(1.75)\n",
        "b = \"Sally\"\n",
        "\n",
        "print(x)"
      ],
      "execution_count": null,
      "outputs": [
        {
          "output_type": "stream",
          "text": [
            "1.75\n"
          ],
          "name": "stdout"
        }
      ]
    },
    {
      "cell_type": "code",
      "metadata": {
        "id": "7LtaJPzq7WkE",
        "colab": {
          "base_uri": "https://localhost:8080/"
        },
        "outputId": "9255ef0e-b269-412a-add8-086d5cb5f356"
      },
      "source": [
        "x = float(1)\n",
        "b = \"Sally\"\n",
        "\n",
        "print(x)"
      ],
      "execution_count": null,
      "outputs": [
        {
          "output_type": "stream",
          "text": [
            "1.0\n"
          ],
          "name": "stdout"
        }
      ]
    },
    {
      "cell_type": "code",
      "metadata": {
        "id": "Ta1aUrW47WmY",
        "colab": {
          "base_uri": "https://localhost:8080/"
        },
        "outputId": "3a8f9771-aba7-4ea4-ff4e-44aa8d4f317c"
      },
      "source": [
        "x = float(1)\n",
        "b = \"Sally\"\n",
        "\n",
        "print (type(x))"
      ],
      "execution_count": null,
      "outputs": [
        {
          "output_type": "stream",
          "text": [
            "<class 'float'>\n"
          ],
          "name": "stdout"
        }
      ]
    },
    {
      "cell_type": "code",
      "metadata": {
        "id": "gc0lT7uc7Wob",
        "colab": {
          "base_uri": "https://localhost:8080/"
        },
        "outputId": "e81d143a-73f4-4934-df6b-7373cb14ad6c"
      },
      "source": [
        "x = float(1)\n",
        "b = \"Sally\"\n",
        "\n",
        "print(type(x))\n",
        "print(type(b))"
      ],
      "execution_count": null,
      "outputs": [
        {
          "output_type": "stream",
          "text": [
            "<class 'float'>\n",
            "<class 'str'>\n"
          ],
          "name": "stdout"
        }
      ]
    },
    {
      "cell_type": "code",
      "metadata": {
        "id": "-WJtO-zf7Wqs",
        "colab": {
          "base_uri": "https://localhost:8080/"
        },
        "outputId": "526e1cc9-484f-4c8d-98d8-a25bd05a48bf"
      },
      "source": [
        "x = float(1)\n",
        "b = \"Sally\"\n",
        "c = \"John\"\n",
        "\n",
        "print(type(x))\n",
        "print(type(b))\n",
        "print(type(c))"
      ],
      "execution_count": null,
      "outputs": [
        {
          "output_type": "stream",
          "text": [
            "<class 'float'>\n",
            "<class 'str'>\n",
            "<class 'str'>\n"
          ],
          "name": "stdout"
        }
      ]
    },
    {
      "cell_type": "code",
      "metadata": {
        "id": "1nnXC6EI7WtE",
        "colab": {
          "base_uri": "https://localhost:8080/"
        },
        "outputId": "90a246d7-9bb7-41c9-fb17-64f7451018d8"
      },
      "source": [
        "a = 4\n",
        "A = \"Sally\"\n",
        "\n",
        "print (a)\n",
        "print (A)"
      ],
      "execution_count": null,
      "outputs": [
        {
          "output_type": "stream",
          "text": [
            "4\n",
            "Sally\n"
          ],
          "name": "stdout"
        }
      ]
    },
    {
      "cell_type": "code",
      "metadata": {
        "id": "Wh5yvlf47WvO",
        "colab": {
          "base_uri": "https://localhost:8080/"
        },
        "outputId": "e3476cce-f84b-4fe7-bbd7-ef733eba39f9"
      },
      "source": [
        "x,y,z = \"one\", \"two\", \"three\"\n",
        "\n",
        "print (x)\n",
        "print (y)\n",
        "print (z)"
      ],
      "execution_count": null,
      "outputs": [
        {
          "output_type": "stream",
          "text": [
            "one\n",
            "two\n",
            "three\n"
          ],
          "name": "stdout"
        }
      ]
    },
    {
      "cell_type": "code",
      "metadata": {
        "id": "3gsg0ySY7Wxd",
        "colab": {
          "base_uri": "https://localhost:8080/"
        },
        "outputId": "8d2f7804-05d6-497d-de4e-50d2a273c70a"
      },
      "source": [
        "x=y=z=\"four\"\n",
        "\n",
        "print(x)\n",
        "print(y)\n",
        "print(z)"
      ],
      "execution_count": null,
      "outputs": [
        {
          "output_type": "stream",
          "text": [
            "four\n",
            "four\n",
            "four\n"
          ],
          "name": "stdout"
        }
      ]
    },
    {
      "cell_type": "code",
      "metadata": {
        "id": "7NMdndVY7Wzr",
        "colab": {
          "base_uri": "https://localhost:8080/"
        },
        "outputId": "60d12d45-70bc-4cfb-9f8e-0f09c16c1e43"
      },
      "source": [
        "x = \"enjoying\"\n",
        "print(\"Python programming is\" \" \" + x)"
      ],
      "execution_count": null,
      "outputs": [
        {
          "output_type": "stream",
          "text": [
            "Python programming is enjoying\n"
          ],
          "name": "stdout"
        }
      ]
    },
    {
      "cell_type": "code",
      "metadata": {
        "id": "pF2SDmnw7W17",
        "colab": {
          "base_uri": "https://localhost:8080/"
        },
        "outputId": "96d889a4-e763-4676-8356-1c8fc1b27493"
      },
      "source": [
        "x = 1 \n",
        "y = 2\n",
        "print (x+y)"
      ],
      "execution_count": null,
      "outputs": [
        {
          "output_type": "stream",
          "text": [
            "3\n"
          ],
          "name": "stdout"
        }
      ]
    },
    {
      "cell_type": "code",
      "metadata": {
        "id": "nUsXCCPN7W4a",
        "colab": {
          "base_uri": "https://localhost:8080/"
        },
        "outputId": "f1e0d18c-4ee4-443a-8350-1359c82abca7"
      },
      "source": [
        "c = 5\n",
        "c+=2 #This is the same as c = c+2\n",
        "print(c)"
      ],
      "execution_count": null,
      "outputs": [
        {
          "output_type": "stream",
          "text": [
            "7\n"
          ],
          "name": "stdout"
        }
      ]
    },
    {
      "cell_type": "code",
      "metadata": {
        "id": "V20mkHaM7W6W",
        "colab": {
          "base_uri": "https://localhost:8080/"
        },
        "outputId": "7f2d1051-cf20-418c-9d99-8ee3983881e2"
      },
      "source": [
        "c = 5\n",
        "c+=2 #This is the same as c = c+2\n",
        "x = 6\n",
        "x%= 3\n",
        "print(c)\n",
        "print(x)"
      ],
      "execution_count": null,
      "outputs": [
        {
          "output_type": "stream",
          "text": [
            "7\n",
            "0\n"
          ],
          "name": "stdout"
        }
      ]
    },
    {
      "cell_type": "code",
      "metadata": {
        "colab": {
          "base_uri": "https://localhost:8080/"
        },
        "id": "fuQ1KTVg9x0C",
        "outputId": "ea8d14e6-5924-4fed-b195-9080cb683146"
      },
      "source": [
        "c = 5\n",
        "c+=2 #this is the same as c = c+2\n",
        "x = 6\n",
        "x%=3 #This is the same as x = x%3\n",
        "print(c)\n",
        "print(x)"
      ],
      "execution_count": null,
      "outputs": [
        {
          "output_type": "stream",
          "text": [
            "7\n",
            "0\n"
          ],
          "name": "stdout"
        }
      ]
    },
    {
      "cell_type": "code",
      "metadata": {
        "colab": {
          "base_uri": "https://localhost:8080/"
        },
        "id": "WvxiNKDn9x2a",
        "outputId": "6c10bcba-6e6f-4cca-f8ef-58fdcc9b0e54"
      },
      "source": [
        "x = 5\n",
        "y = 7\n",
        "x>4 and y<8"
      ],
      "execution_count": null,
      "outputs": [
        {
          "output_type": "execute_result",
          "data": {
            "text/plain": [
              "True"
            ]
          },
          "metadata": {},
          "execution_count": 18
        }
      ]
    },
    {
      "cell_type": "code",
      "metadata": {
        "colab": {
          "base_uri": "https://localhost:8080/"
        },
        "id": "wWG01xjI9x4l",
        "outputId": "0dc31f1e-dff8-4443-b3d2-c4b06106862c"
      },
      "source": [
        "c = 5\n",
        "c+=2 #This is the same as c = c+2\n",
        "x = 6\n",
        "x%=3 #This is the same as x = x%3\n",
        "print(c)\n",
        "print(x)"
      ],
      "execution_count": null,
      "outputs": [
        {
          "output_type": "stream",
          "text": [
            "7\n",
            "0\n"
          ],
          "name": "stdout"
        }
      ]
    },
    {
      "cell_type": "code",
      "metadata": {
        "colab": {
          "base_uri": "https://localhost:8080/"
        },
        "id": "ytryzhWY9x62",
        "outputId": "67b145c0-8bd8-4fac-9e7c-67c0b897f4a0"
      },
      "source": [
        "x = 5\n",
        "y = 7\n",
        "x>4 and y<8"
      ],
      "execution_count": null,
      "outputs": [
        {
          "output_type": "execute_result",
          "data": {
            "text/plain": [
              "True"
            ]
          },
          "metadata": {},
          "execution_count": 20
        }
      ]
    }
  ]
}