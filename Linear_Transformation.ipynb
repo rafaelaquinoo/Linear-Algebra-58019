{
  "nbformat": 4,
  "nbformat_minor": 0,
  "metadata": {
    "colab": {
      "name": "Linear Transformation.ipynb",
      "provenance": [],
      "authorship_tag": "ABX9TyMSWpwaFIVyebdF7OqIn0cX",
      "include_colab_link": true
    },
    "kernelspec": {
      "name": "python3",
      "display_name": "Python 3"
    },
    "language_info": {
      "name": "python"
    }
  },
  "cells": [
    {
      "cell_type": "markdown",
      "metadata": {
        "id": "view-in-github",
        "colab_type": "text"
      },
      "source": [
        "<a href=\"https://colab.research.google.com/github/rafaelaquinoo/Linear-Algebra-58019/blob/main/Linear_Transformation.ipynb\" target=\"_parent\"><img src=\"https://colab.research.google.com/assets/colab-badge.svg\" alt=\"Open In Colab\"/></a>"
      ]
    },
    {
      "cell_type": "markdown",
      "metadata": {
        "id": "MgTwP_4-PX5G"
      },
      "source": [
        ""
      ]
    },
    {
      "cell_type": "code",
      "metadata": {
        "colab": {
          "base_uri": "https://localhost:8080/"
        },
        "id": "TWs5JTTWOBzF",
        "outputId": "3357df69-9926-4a7b-a2d6-70930da8f0c8"
      },
      "source": [
        "import numpy as np\n",
        "A = np.array([[4,3],[5,9]]) #creation of matrix A\n",
        "print(A)\n",
        "inv_A = np.linalg.inv(A)\n",
        "print(inv_A)"
      ],
      "execution_count": 1,
      "outputs": [
        {
          "output_type": "stream",
          "name": "stdout",
          "text": [
            "[[4 3]\n",
            " [5 9]]\n",
            "[[ 0.42857143 -0.14285714]\n",
            " [-0.23809524  0.19047619]]\n"
          ]
        }
      ]
    },
    {
      "cell_type": "code",
      "metadata": {
        "colab": {
          "base_uri": "https://localhost:8080/"
        },
        "id": "UAv8gfgKQg7W",
        "outputId": "817afd1a-580d-449f-c0fa-dc392aa7d358"
      },
      "source": [
        "B = np.array([[20],[26]])\n",
        "print(B)"
      ],
      "execution_count": 2,
      "outputs": [
        {
          "output_type": "stream",
          "name": "stdout",
          "text": [
            "[[20]\n",
            " [26]]\n"
          ]
        }
      ]
    },
    {
      "cell_type": "code",
      "metadata": {
        "colab": {
          "base_uri": "https://localhost:8080/"
        },
        "id": "93a8lz30RdRA",
        "outputId": "56a097e9-8d6d-4852-ec32-cefb7e76c75c"
      },
      "source": [
        "X = np.linalg.inv(A).dot(B)\n",
        "print(X)"
      ],
      "execution_count": 3,
      "outputs": [
        {
          "output_type": "stream",
          "name": "stdout",
          "text": [
            "[[4.85714286]\n",
            " [0.19047619]]\n"
          ]
        }
      ]
    },
    {
      "cell_type": "code",
      "metadata": {
        "colab": {
          "base_uri": "https://localhost:8080/"
        },
        "id": "IukBtOuwRmgF",
        "outputId": "bbb6ca47-d4e4-4f5f-fcf9-bb7a857b36f9"
      },
      "source": [
        "X = np.dot(inv_A,B)\n",
        "print(X)"
      ],
      "execution_count": 5,
      "outputs": [
        {
          "output_type": "stream",
          "name": "stdout",
          "text": [
            "[[4.85714286]\n",
            " [0.19047619]]\n"
          ]
        }
      ]
    },
    {
      "cell_type": "markdown",
      "metadata": {
        "id": "RwbMbD4pSK8c"
      },
      "source": [
        "APPLICATION"
      ]
    },
    {
      "cell_type": "code",
      "metadata": {
        "colab": {
          "base_uri": "https://localhost:8080/"
        },
        "id": "1WWQD-X0SeXM",
        "outputId": "aec161ee-b5d8-41bb-8a84-03c8a0c90d64"
      },
      "source": [
        "A = np.array ([[20,10],[17,22]])\n",
        "print(A)\n",
        "Inv_A = np.linalg.inv(A)\n",
        "print(Inv_A)"
      ],
      "execution_count": 7,
      "outputs": [
        {
          "output_type": "stream",
          "name": "stdout",
          "text": [
            "[[20 10]\n",
            " [17 22]]\n",
            "[[ 0.08148148 -0.03703704]\n",
            " [-0.06296296  0.07407407]]\n"
          ]
        }
      ]
    },
    {
      "cell_type": "code",
      "metadata": {
        "colab": {
          "base_uri": "https://localhost:8080/"
        },
        "id": "KP_SIeFCSrSk",
        "outputId": "708b3ef3-8896-451b-89f2-5d4248668f73"
      },
      "source": [
        "B = np.array([[350],[500]])\n",
        "print(B)"
      ],
      "execution_count": 8,
      "outputs": [
        {
          "output_type": "stream",
          "name": "stdout",
          "text": [
            "[[350]\n",
            " [500]]\n"
          ]
        }
      ]
    },
    {
      "cell_type": "code",
      "metadata": {
        "colab": {
          "base_uri": "https://localhost:8080/"
        },
        "id": "OfX6ET76SzJ9",
        "outputId": "5dc7c3ad-950a-4852-ae2b-f2bade671e4f"
      },
      "source": [
        "X = np.dot(Inv_A,B)\n",
        "print(X)"
      ],
      "execution_count": 9,
      "outputs": [
        {
          "output_type": "stream",
          "name": "stdout",
          "text": [
            "[[10.]\n",
            " [15.]]\n"
          ]
        }
      ]
    },
    {
      "cell_type": "markdown",
      "metadata": {
        "id": "FI_bdJxeS7Ml"
      },
      "source": [
        "To check if the answer is correct"
      ]
    },
    {
      "cell_type": "code",
      "metadata": {
        "colab": {
          "base_uri": "https://localhost:8080/"
        },
        "id": "0HLuV5T-S5Ht",
        "outputId": "4b798fb7-4f0a-4104-9078-15cc3b77da7b"
      },
      "source": [
        "B = np.dot(A,X)\n",
        "print(B)"
      ],
      "execution_count": 14,
      "outputs": [
        {
          "output_type": "stream",
          "name": "stdout",
          "text": [
            "[[350.]\n",
            " [500.]]\n"
          ]
        }
      ]
    },
    {
      "cell_type": "markdown",
      "metadata": {
        "id": "r0AhfHwaTrLk"
      },
      "source": [
        "ACTIVITY"
      ]
    },
    {
      "cell_type": "code",
      "metadata": {
        "colab": {
          "base_uri": "https://localhost:8080/"
        },
        "id": "lXJ3_VgeTolF",
        "outputId": "e4da79ad-95b3-485e-f43f-000dd77c67aa"
      },
      "source": [
        "import numpy as np\n",
        "A = np.array([[[4,3,2],[-2,2,3],[3,-5,2]]])\n",
        "print(A)\n",
        "inv_A = np.linalg.inv(A)\n",
        "print(inv_A)"
      ],
      "execution_count": 17,
      "outputs": [
        {
          "output_type": "stream",
          "name": "stdout",
          "text": [
            "[[[ 4  3  2]\n",
            "  [-2  2  3]\n",
            "  [ 3 -5  2]]]\n",
            "[[[ 0.15447154 -0.1300813   0.04065041]\n",
            "  [ 0.10569106  0.01626016 -0.1300813 ]\n",
            "  [ 0.03252033  0.23577236  0.11382114]]]\n"
          ]
        }
      ]
    },
    {
      "cell_type": "code",
      "metadata": {
        "colab": {
          "base_uri": "https://localhost:8080/"
        },
        "id": "1YWFTYdCU2VN",
        "outputId": "2caeb475-8101-4307-c016-d4947f641437"
      },
      "source": [
        "B = np.array([[[25],[-10],[-4]]])\n",
        "print(B)"
      ],
      "execution_count": 18,
      "outputs": [
        {
          "output_type": "stream",
          "name": "stdout",
          "text": [
            "[[[ 25]\n",
            "  [-10]\n",
            "  [ -4]]]\n"
          ]
        }
      ]
    },
    {
      "cell_type": "code",
      "metadata": {
        "colab": {
          "base_uri": "https://localhost:8080/"
        },
        "id": "2CeIIXGqVGb8",
        "outputId": "aa1076ac-c61e-4008-8972-4c5ffde9bec4"
      },
      "source": [
        "X = np.linalg.inv(A).dot(B)\n",
        "print(X)"
      ],
      "execution_count": 20,
      "outputs": [
        {
          "output_type": "stream",
          "name": "stdout",
          "text": [
            "[[[[ 5.]]\n",
            "\n",
            "  [[ 3.]]\n",
            "\n",
            "  [[-2.]]]]\n"
          ]
        }
      ]
    },
    {
      "cell_type": "code",
      "metadata": {
        "colab": {
          "base_uri": "https://localhost:8080/"
        },
        "id": "4AN5lineVK3U",
        "outputId": "d497a62c-dd6e-448b-c429-dc6205b7338c"
      },
      "source": [
        "x = np.dot(inv_A,B)\n",
        "print(x)"
      ],
      "execution_count": 21,
      "outputs": [
        {
          "output_type": "stream",
          "name": "stdout",
          "text": [
            "[[[[ 5.]]\n",
            "\n",
            "  [[ 3.]]\n",
            "\n",
            "  [[-2.]]]]\n"
          ]
        }
      ]
    }
  ]
}