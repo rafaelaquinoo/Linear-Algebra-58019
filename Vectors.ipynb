{
  "nbformat": 4,
  "nbformat_minor": 0,
  "metadata": {
    "colab": {
      "name": "Vectors.ipynb",
      "provenance": [],
      "authorship_tag": "ABX9TyPl+Y/L6u4DwX8OjaHZ9Pma",
      "include_colab_link": true
    },
    "kernelspec": {
      "name": "python3",
      "display_name": "Python 3"
    },
    "language_info": {
      "name": "python"
    }
  },
  "cells": [
    {
      "cell_type": "markdown",
      "metadata": {
        "id": "view-in-github",
        "colab_type": "text"
      },
      "source": [
        "<a href=\"https://colab.research.google.com/github/rafaelaquinoo/Linear-Algebra-58019/blob/main/Vectors.ipynb\" target=\"_parent\"><img src=\"https://colab.research.google.com/assets/colab-badge.svg\" alt=\"Open In Colab\"/></a>"
      ]
    },
    {
      "cell_type": "markdown",
      "metadata": {
        "id": "Kaz320y619I9"
      },
      "source": [
        "#Matrix Algebra"
      ]
    },
    {
      "cell_type": "code",
      "metadata": {
        "colab": {
          "base_uri": "https://localhost:8080/"
        },
        "id": "_J8JDcW11-8e",
        "outputId": "364763c7-3a26-4639-b212-eee2def63cd5"
      },
      "source": [
        "#numpy\n",
        "import numpy as np\n",
        "a = np.array([1,2,3]) #This is an example of 1x3 matrix\n",
        "print(a)"
      ],
      "execution_count": 1,
      "outputs": [
        {
          "output_type": "stream",
          "name": "stdout",
          "text": [
            "[1 2 3]\n"
          ]
        }
      ]
    },
    {
      "cell_type": "code",
      "metadata": {
        "colab": {
          "base_uri": "https://localhost:8080/"
        },
        "id": "qxB3-rjY2LEu",
        "outputId": "4c1fee8c-599b-4536-ce8e-d576cf9b37f7"
      },
      "source": [
        "import numpy as np \n",
        "b = np.array([[1,2,3],[4,5,6]]) #This is a 2x3 matrix\n",
        "print(b)"
      ],
      "execution_count": 2,
      "outputs": [
        {
          "output_type": "stream",
          "name": "stdout",
          "text": [
            "[[1 2 3]\n",
            " [4 5 6]]\n"
          ]
        }
      ]
    },
    {
      "cell_type": "code",
      "metadata": {
        "colab": {
          "base_uri": "https://localhost:8080/"
        },
        "id": "RqCAMN3c2i-9",
        "outputId": "f4b65b33-af3c-49b8-ae16-4c977302edc1"
      },
      "source": [
        "import numpy as np \n",
        "c = np.array([[1,2,3],[4,5,6],[7,8,9]]) #This is an example of 3x3 matrix\n",
        "print(c)"
      ],
      "execution_count": 3,
      "outputs": [
        {
          "output_type": "stream",
          "name": "stdout",
          "text": [
            "[[1 2 3]\n",
            " [4 5 6]\n",
            " [7 8 9]]\n"
          ]
        }
      ]
    },
    {
      "cell_type": "code",
      "metadata": {
        "colab": {
          "base_uri": "https://localhost:8080/"
        },
        "id": "R3M8dTL-20HG",
        "outputId": "053339bd-63b0-4a6f-f608-af0795535373"
      },
      "source": [
        "import numpy as np\n",
        "d = np.full((3,3),7)\n",
        "print(d)"
      ],
      "execution_count": 4,
      "outputs": [
        {
          "output_type": "stream",
          "name": "stdout",
          "text": [
            "[[7 7 7]\n",
            " [7 7 7]\n",
            " [7 7 7]]\n"
          ]
        }
      ]
    },
    {
      "cell_type": "code",
      "metadata": {
        "colab": {
          "base_uri": "https://localhost:8080/"
        },
        "id": "AY1OAqOm3Cpm",
        "outputId": "8775358d-0141-4461-a3bd-a897e0a6ab23"
      },
      "source": [
        "import numpy as np\n",
        "e = np.array([[1,2,3],[4,5,6],[7,8,9]])\n",
        "print(e)\n",
        "e = np.diagonal([[1,2,3],[4,5,6],[7,8,9]])\n",
        "print(e)"
      ],
      "execution_count": 5,
      "outputs": [
        {
          "output_type": "stream",
          "name": "stdout",
          "text": [
            "[[1 2 3]\n",
            " [4 5 6]\n",
            " [7 8 9]]\n",
            "[1 5 9]\n"
          ]
        }
      ]
    },
    {
      "cell_type": "code",
      "metadata": {
        "colab": {
          "base_uri": "https://localhost:8080/"
        },
        "id": "5l2upQmY3k4-",
        "outputId": "d8a9c086-e532-42a3-b5d1-c5f177f4dfed"
      },
      "source": [
        "import numpy as np\n",
        "f = np.eye(3)\n",
        "print(f)"
      ],
      "execution_count": 6,
      "outputs": [
        {
          "output_type": "stream",
          "name": "stdout",
          "text": [
            "[[1. 0. 0.]\n",
            " [0. 1. 0.]\n",
            " [0. 0. 1.]]\n"
          ]
        }
      ]
    },
    {
      "cell_type": "code",
      "metadata": {
        "colab": {
          "base_uri": "https://localhost:8080/"
        },
        "id": "fVhBCT6038ne",
        "outputId": "bb4c9c1b-aa33-4ee1-fe9b-686867eb8164"
      },
      "source": [
        "import numpy as np\n",
        "g = np.zeros((3,3))\n",
        "print(g)"
      ],
      "execution_count": 7,
      "outputs": [
        {
          "output_type": "stream",
          "name": "stdout",
          "text": [
            "[[0. 0. 0.]\n",
            " [0. 0. 0.]\n",
            " [0. 0. 0.]]\n"
          ]
        }
      ]
    },
    {
      "cell_type": "code",
      "metadata": {
        "colab": {
          "base_uri": "https://localhost:8080/"
        },
        "id": "o9k2wCpH4Sr-",
        "outputId": "3ad2c488-6358-433e-d5a1-3466d5c78544"
      },
      "source": [
        "import numpy as np\n",
        "h = np.empty((0,12))\n",
        "print(h)"
      ],
      "execution_count": 8,
      "outputs": [
        {
          "output_type": "stream",
          "name": "stdout",
          "text": [
            "[]\n"
          ]
        }
      ]
    },
    {
      "cell_type": "code",
      "metadata": {
        "colab": {
          "base_uri": "https://localhost:8080/"
        },
        "id": "Ma_zV8Co4hUN",
        "outputId": "7425de99-8ed5-406d-ce6c-3bbb61a6d19d"
      },
      "source": [
        "import numpy as np\n",
        "d = np.full((3,3),7)\n",
        "print(d+d)"
      ],
      "execution_count": 9,
      "outputs": [
        {
          "output_type": "stream",
          "name": "stdout",
          "text": [
            "[[14 14 14]\n",
            " [14 14 14]\n",
            " [14 14 14]]\n"
          ]
        }
      ]
    },
    {
      "cell_type": "code",
      "metadata": {
        "colab": {
          "base_uri": "https://localhost:8080/"
        },
        "id": "Ak0HgDHV5Pgm",
        "outputId": "d095f2dc-948b-4f21-ef60-449ee5622076"
      },
      "source": [
        "import numpy as np\n",
        "d = np.full((3,3),7)\n",
        "print(d-d)"
      ],
      "execution_count": 10,
      "outputs": [
        {
          "output_type": "stream",
          "name": "stdout",
          "text": [
            "[[0 0 0]\n",
            " [0 0 0]\n",
            " [0 0 0]]\n"
          ]
        }
      ]
    }
  ]
}