{
  "nbformat": 4,
  "nbformat_minor": 0,
  "metadata": {
    "colab": {
      "name": "Activity 3.ipynb",
      "provenance": [],
      "authorship_tag": "ABX9TyPz09quIbtEBBbJV/rAx8cE",
      "include_colab_link": true
    },
    "kernelspec": {
      "name": "python3",
      "display_name": "Python 3"
    },
    "language_info": {
      "name": "python"
    }
  },
  "cells": [
    {
      "cell_type": "markdown",
      "metadata": {
        "id": "view-in-github",
        "colab_type": "text"
      },
      "source": [
        "<a href=\"https://colab.research.google.com/github/rafaelaquinoo/Linear-Algebra-58019/blob/main/Activity_3.ipynb\" target=\"_parent\"><img src=\"https://colab.research.google.com/assets/colab-badge.svg\" alt=\"Open In Colab\"/></a>"
      ]
    },
    {
      "cell_type": "markdown",
      "metadata": {
        "id": "H5lfBsRsLsCP"
      },
      "source": [
        "#Matrix Algebra"
      ]
    },
    {
      "cell_type": "code",
      "metadata": {
        "colab": {
          "base_uri": "https://localhost:8080/"
        },
        "id": "Ii2StsAmLw33",
        "outputId": "8d4e4bc0-d346-48c6-a034-96b9f5b17a3b"
      },
      "source": [
        "#Python Program to Transpose a 4x4 Matrix A=([6,1,1,3],[4,-2,5,1],[2,8,7,6],[3,1,9,7])\n",
        "import numpy as np\n",
        "A=np.array([[6,1,1,3],[4,-2,5,1],[2,8,7,6],[3,1,9,7]])\n",
        "print(A)\n",
        "B=np.transpose(A)\n",
        "print(B)"
      ],
      "execution_count": 10,
      "outputs": [
        {
          "output_type": "stream",
          "name": "stdout",
          "text": [
            "[[ 6  1  1  3]\n",
            " [ 4 -2  5  1]\n",
            " [ 2  8  7  6]\n",
            " [ 3  1  9  7]]\n",
            "[[ 6  4  2  3]\n",
            " [ 1 -2  8  1]\n",
            " [ 1  5  7  9]\n",
            " [ 3  1  6  7]]\n"
          ]
        }
      ]
    },
    {
      "cell_type": "code",
      "metadata": {
        "colab": {
          "base_uri": "https://localhost:8080/"
        },
        "id": "964Oso38NHEZ",
        "outputId": "c35d6445-ba34-414f-d359-3e7de19e7461"
      },
      "source": [
        "#Python Program to Inverse a 4x4 Matrix A=([6,1,1,3],[4,-2,5,1],[2,8,7,6],[3,1,9,7])\n",
        "import numpy as np\n",
        "A=np.array([[6,1,1,3],[4,-2,5,1],[2,8,7,6],[3,1,9,7]])\n",
        "print(A)\n",
        "B=(np.linalg.inv(A))\n",
        "print(B )"
      ],
      "execution_count": 11,
      "outputs": [
        {
          "output_type": "stream",
          "name": "stdout",
          "text": [
            "[[ 6  1  1  3]\n",
            " [ 4 -2  5  1]\n",
            " [ 2  8  7  6]\n",
            " [ 3  1  9  7]]\n",
            "[[ 0.13368984  0.10695187  0.02139037 -0.09090909]\n",
            " [-0.00229183  0.02673797  0.14820474 -0.12987013]\n",
            " [-0.12987013  0.18181818  0.06493506 -0.02597403]\n",
            " [ 0.11000764 -0.28342246 -0.11382735  0.23376623]]\n"
          ]
        }
      ]
    }
  ]
}