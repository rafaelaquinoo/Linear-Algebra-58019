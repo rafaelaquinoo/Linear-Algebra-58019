{
  "nbformat": 4,
  "nbformat_minor": 0,
  "metadata": {
    "colab": {
      "name": "Python Exercise 1.ipynb",
      "provenance": [],
      "authorship_tag": "ABX9TyOQPU8GssDKHjs4DYv7aF4T",
      "include_colab_link": true
    },
    "kernelspec": {
      "name": "python3",
      "display_name": "Python 3"
    },
    "language_info": {
      "name": "python"
    }
  },
  "cells": [
    {
      "cell_type": "markdown",
      "metadata": {
        "id": "view-in-github",
        "colab_type": "text"
      },
      "source": [
        "<a href=\"https://colab.research.google.com/github/rafaelaquinoo/Linear-Algebra-58019/blob/main/Python_Exercise_1.ipynb\" target=\"_parent\"><img src=\"https://colab.research.google.com/assets/colab-badge.svg\" alt=\"Open In Colab\"/></a>"
      ]
    },
    {
      "cell_type": "markdown",
      "metadata": {
        "id": "J6ZlZWZr7ryW"
      },
      "source": [
        "#Matrix and Its Operations"
      ]
    },
    {
      "cell_type": "code",
      "metadata": {
        "colab": {
          "base_uri": "https://localhost:8080/"
        },
        "id": "y8NWxSHR7tFl",
        "outputId": "d3a91700-85fe-41d5-affe-82cae62df3b7"
      },
      "source": [
        "import numpy as np\n",
        "a = np.array([[-5,0],[4,1]]) \n",
        "b = np.array([[6,-3],[2,3]]) \n",
        "\n",
        "print (a+b)\n",
        "print()\n",
        "print (b-a)\n",
        "print()\n",
        "print (a-b)\n",
        "print()"
      ],
      "execution_count": 4,
      "outputs": [
        {
          "output_type": "stream",
          "name": "stdout",
          "text": [
            "[[ 1 -3]\n",
            " [ 6  4]]\n",
            "\n",
            "[[11 -3]\n",
            " [-2  2]]\n",
            "\n",
            "[[-11   3]\n",
            " [  2  -2]]\n",
            "\n"
          ]
        }
      ]
    }
  ]
}